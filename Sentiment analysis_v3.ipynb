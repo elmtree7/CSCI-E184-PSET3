{
 "cells": [
  {
   "cell_type": "markdown",
   "id": "9c1bfad7-3b93-4b57-b223-4b169755d79c",
   "metadata": {},
   "source": [
    "# Step 1: Load the raw data"
   ]
  },
  {
   "cell_type": "code",
   "execution_count": 17,
   "id": "f0a066b5-879b-4ceb-9b4b-10dafc37878f",
   "metadata": {},
   "outputs": [
    {
     "name": "stdout",
     "output_type": "stream",
     "text": [
      "Sentiment analysis completed and results saved to the specified Excel file.\n"
     ]
    }
   ],
   "source": [
    "import pandas as pd\n",
    "from textblob import TextBlob\n",
    "\n",
    "\n",
    "file_path =  # Update this path to your raw data file with double backslashes\n",
    "raw_data = pd.read_excel(file_path, sheet_name='data')\n",
    "\n",
    "\n"
   ]
  },
  {
   "cell_type": "markdown",
   "id": "1449a568-0fa0-4e34-80e5-7ea7101f7030",
   "metadata": {},
   "source": [
    "# Step 2: Perform sentiment analysis"
   ]
  },
  {
   "cell_type": "code",
   "execution_count": null,
   "id": "5c101b3a-0f56-4d7c-8c7c-1d24172e25a5",
   "metadata": {},
   "outputs": [],
   "source": [
    "\n",
    "def analyze_sentiment(text):\n",
    "    if pd.isna(text):\n",
    "        return None\n",
    "    analysis = TextBlob(text)\n",
    "    return analysis.sentiment.polarity\n",
    "\n",
    "# Assuming column 'A' does not have a header\n",
    "raw_data.columns = ['Text']  \n",
    "raw_data['Sentiment'] = raw_data['Text'].apply(analyze_sentiment)\n",
    "\n"
   ]
  },
  {
   "cell_type": "markdown",
   "id": "f4f6d39a-c094-4d3a-b751-971eaf14c055",
   "metadata": {},
   "source": [
    "# Detect personal info"
   ]
  },
  {
   "cell_type": "code",
   "execution_count": null,
   "id": "749d561d-e95a-4204-9465-6cd71bf114a4",
   "metadata": {},
   "outputs": [],
   "source": [
    "def detect_personal_info(text):\n",
    "    if pd.isna(text):\n",
    "        return None\n",
    "    # Define patterns to detect personal information\n",
    "    keywords = ['address', 'phone', 'email', 'social security', 'ssn', 'state']\n",
    "    pattern = re.compile('|'.join(keywords), re.IGNORECASE)\n",
    "    if pattern.search(text):\n",
    "        return True\n",
    "    return False"
   ]
  },
  {
   "cell_type": "markdown",
   "id": "5770276c-f05d-4b13-86c9-3259b60438a5",
   "metadata": {},
   "source": [
    "# Step 3: Save the result to the specified Excel file"
   ]
  },
  {
   "cell_type": "code",
   "execution_count": null,
   "id": "586dc355-7025-4230-a5f2-b2b35fdcb0d7",
   "metadata": {},
   "outputs": [],
   "source": [
    "\n",
    "output_file_path =   # Use a different file name\n",
    "raw_data.to_excel(output_file_path, index=False)\n",
    "\n",
    "print(\"Sentiment analysis completed and results saved\")"
   ]
  },
  {
   "cell_type": "code",
   "execution_count": null,
   "id": "b1e7d016-5617-468a-a252-d04f659ee3a7",
   "metadata": {},
   "outputs": [],
   "source": []
  }
 ],
 "metadata": {
  "kernelspec": {
   "display_name": "Python 3 (ipykernel)",
   "language": "python",
   "name": "python3"
  },
  "language_info": {
   "codemirror_mode": {
    "name": "ipython",
    "version": 3
   },
   "file_extension": ".py",
   "mimetype": "text/x-python",
   "name": "python",
   "nbconvert_exporter": "python",
   "pygments_lexer": "ipython3",
   "version": "3.11.7"
  }
 },
 "nbformat": 4,
 "nbformat_minor": 5
}
